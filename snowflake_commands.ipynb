{
  "nbformat": 4,
  "nbformat_minor": 0,
  "metadata": {
    "colab": {
      "provenance": []
    },
    "kernelspec": {
      "name": "python3",
      "display_name": "Python 3"
    },
    "language_info": {
      "name": "python"
    }
  },
  "cells": [
    {
      "cell_type": "code",
      "execution_count": null,
      "metadata": {
        "id": "Gfa_oPpwyAui"
      },
      "outputs": [],
      "source": [
        "CREATE DATABASE ANANYA_SNOWFLAKE_;\n",
        "CREATE SCHEMA DATA;"
      ]
    },
    {
      "cell_type": "code",
      "source": [
        "CREATE OR REPLACE function text_chunker(pdf_text string)\n",
        "returns table (chunk varchar)\n",
        "language python\n",
        "runtime_version = '3.9'\n",
        "handler = 'text_chunker'\n",
        "packages = ('snowflake-snowpark-python', 'langchain')\n",
        "as\n",
        "$$\n",
        "from snowflake.snowpark.types import StringType, StructField, StructType\n",
        "from langchain.text_splitter import RecursiveCharacterTextSplitter\n",
        "import pandas as pd\n",
        "\n",
        "class text_chunker:\n",
        "\n",
        "    def process(self, pdf_text: str):\n",
        "\n",
        "        text_splitter = RecursiveCharacterTextSplitter(\n",
        "            chunk_size = 1512, #Adjust this as you see fit\n",
        "            chunk_overlap  = 256, #This let's text have some form of overlap. Useful for keeping chunks contextual\n",
        "            length_function = len\n",
        "        )\n",
        "\n",
        "        chunks = text_splitter.split_text(pdf_text)\n",
        "        df = pd.DataFrame(chunks, columns=['chunks'])\n",
        "\n",
        "        yield from df.itertuples(index=False, name=None)\n",
        "$$;"
      ],
      "metadata": {
        "id": "uaYWS7DUyGFC"
      },
      "execution_count": null,
      "outputs": []
    },
    {
      "cell_type": "code",
      "source": [
        "CREATE OR REPLACE stage docs DIRECTORY = ( ENABLE = true )\n",
        "    ENCRYPTION = ( TYPE = 'SNOWFLAKE_SSE' );"
      ],
      "metadata": {
        "id": "_YSpR19fyJz3"
      },
      "execution_count": null,
      "outputs": []
    },
    {
      "cell_type": "code",
      "source": [
        "CREATE OR REPLACE TABLE DOCS_CHUNKS_TABLE (\n",
        "    RELATIVE_PATH VARCHAR(16777216), -- Relative path to the PDF file\n",
        "    SIZE NUMBER(38,0), -- Size of the PDF\n",
        "    FILE_URL VARCHAR(16777216), -- URL for the PDF\n",
        "    SCOPED_FILE_URL VARCHAR(16777216), -- Scoped url (you can choose which one to keep depending on your use case)\n",
        "    CHUNK VARCHAR(16777216), -- Piece of text\n",
        "    CATEGORY VARCHAR(16777216) -- Will hold the document category to enable filtering\n",
        ");"
      ],
      "metadata": {
        "id": "y7LNTdc9yOjv"
      },
      "execution_count": null,
      "outputs": []
    },
    {
      "cell_type": "code",
      "source": [
        "INSERT INTO docs_chunks_table (relative_path, size, file_url,\n",
        "                            scoped_file_url, chunk)\n",
        "\n",
        "    SELECT relative_path,\n",
        "            size,\n",
        "            file_url,\n",
        "            build_scoped_file_url(@docs, relative_path) AS scoped_file_url,\n",
        "            func.chunk AS chunk\n",
        "    FROM\n",
        "        directory(@docs),\n",
        "        TABLE(text_chunker (TO_VARCHAR(SNOWFLAKE.CORTEX.PARSE_DOCUMENT(@docs,\n",
        "                              relative_path, {'mode': 'LAYOUT'})))) AS func;"
      ],
      "metadata": {
        "id": "DL0w3hVDyQ6V"
      },
      "execution_count": null,
      "outputs": []
    },
    {
      "cell_type": "code",
      "source": [
        "CREATE\n",
        "OR REPLACE TABLE docs_categories AS (\n",
        "  SELECT\n",
        "    relative_path, file_url, chunk, size\n",
        "  FROM\n",
        "    docs_chunks_table\n",
        ");"
      ],
      "metadata": {
        "id": "osFaTOBryUme"
      },
      "execution_count": null,
      "outputs": []
    },
    {
      "cell_type": "code",
      "source": [
        "CREATE OR REPLACE TABLE docs_categories_final AS (\n",
        "SELECT\n",
        "    relative_path,\n",
        "    file_url,\n",
        "    chunk, size,\n",
        "    snowflake.cortex.COMPLETE(\n",
        "        'llama3-70b',\n",
        "        'Categorize the document if it is related to \"Alaska\", \"Alabama\", \"Arkansas\", \"American Samoa\", \"Arizona\",\n",
        "        \"California\", \"Colorado\", \"Connecticut\", \"District of Columbia\",\n",
        "        \"Delaware\", \"Florida\", \"Georgia\", \"Guam\", \"Hawaii\", \"Iowa\",\n",
        "        \"Idaho\", \"Illinois\", \"Indiana\", \"Kansas\", \"Kentucky\", \"Louisiana\",\n",
        "        \"Massachusetts\", \"Maryland\", \"Maine\", \"Michigan\", \"Minnesota\",\n",
        "        \"Missouri\", \"Mississippi\", \"Montana\", \"North Carolina\",\n",
        "        \"North Dakota\", \"Nebraska\", \"New Hampshire\", \"New Jersey\",\n",
        "        \"New Mexico\", \"Nevada\", \"New York\", \"Ohio\", \"Oklahoma\", \"Oregon\",\n",
        "        \"Pennsylvania\", \"Puerto Rico\", \"Rhode Island\", \"South Carolina\",\n",
        "        \"South Dakota\", \"Tennessee\", \"Texas\", \"Utah\", \"Virginia\",\n",
        "        \"Virgin Islands\", \"Vermont\", \"Washington\", \"Wisconsin\",\n",
        "        \"West Virginia\", \"Wyoming\". Use only one word: <file> ' || relative_path || '</file>'\n",
        "    ) AS test_output\n",
        "FROM\n",
        "    docs_chunks_table\n",
        ");"
      ],
      "metadata": {
        "id": "4zjDbI4fyWzP"
      },
      "execution_count": null,
      "outputs": []
    },
    {
      "cell_type": "code",
      "source": [
        "CREATE or REPLACE CORTEX SEARCH SERVICE CC_SEARCH_SERVICE_CS_AN\n",
        "ON chunk\n",
        "ATTRIBUTES TEST_OUTPUT\n",
        "warehouse = COMPUTE_WH\n",
        "TARGET_LAG = '1 minute'\n",
        "as (\n",
        "    SELECT chunk,\n",
        "        relative_path,\n",
        "        file_url,\n",
        "        TEST_OUTPUT\n",
        "    FROM docs_categories_final\n",
        ");"
      ],
      "metadata": {
        "id": "fZZTgpxgyYww"
      },
      "execution_count": null,
      "outputs": []
    }
  ]
}